{
 "cells": [
  {
   "cell_type": "code",
   "execution_count": 1,
   "metadata": {},
   "outputs": [],
   "source": [
    "import os\n",
    "import glob\n",
    "from pci.fimport import fimport\n",
    "from pci.atcor import atcor"
   ]
  },
  {
   "cell_type": "code",
   "execution_count": 7,
   "metadata": {},
   "outputs": [],
   "source": [
    "# Create the 'generated_pixfile' directory if it doesn't exist\n",
    "output_dir = os.path.join(os.getcwd(), 'generated_pixfile')\n",
    "if not os.path.exists(output_dir):\n",
    "    os.makedirs(output_dir)\n",
    "\n",
    "# Create lists to hold input files for processing\n",
    "images_mtl = []\n",
    "parent_directory = os.path.join(os.getcwd(), 'images')\n",
    "image_folders = os.listdir(parent_directory)\n",
    "\n",
    "# Iterate through each folder and find the MTL file\n",
    "for folder in image_folders:\n",
    "    folder_path = os.path.join(parent_directory, folder)  # Get full path of the folder\n",
    "    \n",
    "    # Find all *_MTL.txt files in the current folder (recursive search)\n",
    "    mtl_files = glob.glob(os.path.join(folder_path, '**', '*_MTL.txt'), recursive=True)\n",
    "    \n",
    "    if mtl_files:\n",
    "        images_mtl.extend(mtl_files)  # Add the found MTL files to the list\n",
    "\n",
    "# Now process each MTL file and create a PIX file for each inside 'generated_pixfile' folder\n",
    "for mtl_file in images_mtl:\n",
    "    # Define output PIX file path inside 'generated_pixfile' folder based on the MTL file name\n",
    "    pix_file = os.path.join(output_dir, os.path.basename(mtl_file).replace('.txt', '.pix'))  # Replace _MTL.txt with .pix extension\n",
    "    \n",
    "    # Create the PIX file using fimport\n",
    "    try:\n",
    "        fimport(fili=mtl_file, filo=pix_file)\n",
    "        print(f\"Successfully created PIX file: {pix_file}\")\n",
    "    except Exception as e:\n",
    "        print(f\"Error importing {mtl_file}: {e}\")"
   ]
  },
  {
   "cell_type": "code",
   "execution_count": null,
   "metadata": {},
   "outputs": [],
   "source": [
    "# Apply atmospheric correction to each PIX file inside 'generated_pixfile'\n",
    "generated_pix_files = glob.glob(os.path.join(output_dir, '*.pix'))  # Find all .pix files in 'generated_pixfile'\n",
    "\n",
    "for pix_file in generated_pix_files:\n",
    "    try:\n",
    "        # Define the output PIX file path for the atmospheric corrected file\n",
    "        atcor_pix_file = pix_file.replace('.pix', '_Atcor.pix')\n",
    "        \n",
    "        # Define the necessary input files for atmospheric correction\n",
    "        # (you must define or provide paths for these files)\n",
    "        masks = \"path_to_mask_file.pix\"  # Provide the path to the mask file\n",
    "        ter_file = \"path_to_terrain_file.dem\"  # Provide the path to the terrain file (e.g., DEM)\n",
    "        illum_file = \"path_to_illumination_file.illum\"  # Provide the path to the illumination file\n",
    "\n",
    "        # Apply atmospheric correction to the PIX file\n",
    "        atcor(fili=pix_file, \n",
    "              maskfili=masks, \n",
    "              terfile=ter_file, \n",
    "              illufile=illum_file, \n",
    "              atmdef=\"rural\", \n",
    "              atmcond=\"Fall\", \n",
    "              outunits=\"Percent_Reflectance\", \n",
    "              filo=atcor_pix_file)\n",
    "        \n",
    "        print(f\"Successfully applied atmospheric correction and saved to: {atcor_pix_file}\")\n",
    "    \n",
    "    except Exception as e:\n",
    "        print(f\"Error applying atmospheric correction to {pix_file}: {e}\")"
   ]
  },
  {
   "cell_type": "code",
   "execution_count": null,
   "metadata": {},
   "outputs": [],
   "source": [
    "# Apply atmospheric correction to each PIX file inside 'generated_pixfile'\n",
    "generated_pix_files = glob.glob(os.path.join(output_dir, '*.pix'))  # Find all .pix files in 'generated_pixfile'\n",
    "\n",
    "for pix_file in generated_pix_files:\n",
    "    try:\n",
    "        # Define the output PIX file path for the atmospheric corrected file\n",
    "        atcor_pix_file = pix_file.replace('.pix', '_Atcor.pix')\n",
    "        \n",
    "        # Define the necessary input files for atmospheric correction\n",
    "        # (you can set paths to your mask file if available, otherwise None)\n",
    "        masks = None  # If no mask is available, pass None\n",
    "        ter_file = None  # No terrain file, passing None\n",
    "        illum_file = None  # No illumination file, passing None\n",
    "\n",
    "        # Apply atmospheric correction to the PIX file\n",
    "        atcor(fili=pix_file, \n",
    "              maskfili=masks, \n",
    "              terfile=ter_file, \n",
    "              illufile=illum_file, \n",
    "              atmdef=\"rural\", \n",
    "              atmcond=\"Fall\", \n",
    "              outunits=\"Percent_Reflectance\", \n",
    "              filo=atcor_pix_file)\n",
    "        \n",
    "        print(f\"Successfully applied atmospheric correction and saved to: {atcor_pix_file}\")\n",
    "    \n",
    "    except Exception as e:\n",
    "        print(f\"Error applying atmospheric correction to {pix_file}: {e}\")"
   ]
  },
  {
   "cell_type": "code",
   "execution_count": null,
   "metadata": {},
   "outputs": [],
   "source": []
  }
 ],
 "metadata": {
  "kernelspec": {
   "display_name": "Python 3",
   "language": "python",
   "name": "python3"
  },
  "language_info": {
   "codemirror_mode": {
    "name": "ipython",
    "version": 3
   },
   "file_extension": ".py",
   "mimetype": "text/x-python",
   "name": "python",
   "nbconvert_exporter": "python",
   "pygments_lexer": "ipython3",
   "version": "3.8.10"
  }
 },
 "nbformat": 4,
 "nbformat_minor": 2
}
